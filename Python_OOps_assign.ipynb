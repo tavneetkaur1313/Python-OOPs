{
  "nbformat": 4,
  "nbformat_minor": 0,
  "metadata": {
    "colab": {
      "provenance": []
    },
    "kernelspec": {
      "name": "python3",
      "display_name": "Python 3"
    },
    "language_info": {
      "name": "python"
    }
  },
  "cells": [
    {
      "cell_type": "markdown",
      "source": [
        "# THEORY QUESTIONS\n",
        "\n",
        "1. What is Object-Oriented Programming (OOP)?\n",
        "\n",
        "Ans-  Object-Oriented Programming (OOP) in Python is a programming paradigm that organizes code into reusable, self-contained units called objects, which are instances of classes, and uses principles like encapsulation, inheritance, and polymorphism to model real-world entities.\n",
        "\n",
        "OOP also exists in other programming languages and is often described to center around the four pillars, or four tenants of OOP:\n",
        "\n",
        "-> Encapsulation allows you to bundle data (attributes) and behaviors (methods) within a class to create a cohesive unit. By defining methods to control access to attributes and its modification, encapsulation helps maintain data integrity and promotes modular, secure code.\n",
        "\n",
        "->  Inheritance enables the creation of hierarchical relationships between classes, allowing a subclass to inherit attributes and methods from a parent class. This promotes code reuse and reduces duplication.\n",
        "\n",
        "->  Abstraction focuses on hiding implementation details and exposing only the essential functionality of an object. By enforcing a consistent interface, abstraction simplifies interactions with objects, allowing developers to focus on what an object does rather than how it achieves its functionality.\n",
        "\n",
        "->  Polymorphism allows you to treat objects of different types as instances of the same base type, as long as they implement a common interface or behavior. Python’s duck typing make it especially suited for polymorphism, as it allows you to access attributes and methods on objects without needing to worry about their actual class.\n",
        "\n"
      ],
      "metadata": {
        "id": "aNCvh56GZKXi"
      }
    },
    {
      "cell_type": "markdown",
      "source": [
        "2. What is a class in OOP?\n",
        "\n",
        "Ans-  In Python's object-oriented programming (OOP), a class is a blueprint or template for creating objects, defining the attributes (data) and methods (functions) that objects of that class will have."
      ],
      "metadata": {
        "id": "36ATd-X5Z5b3"
      }
    },
    {
      "cell_type": "code",
      "source": [
        "class MyClass:\n",
        "  x = 5\n",
        "\n",
        "  #Example"
      ],
      "metadata": {
        "id": "onISa9b2aSYm"
      },
      "execution_count": 2,
      "outputs": []
    },
    {
      "cell_type": "markdown",
      "source": [
        "3.  What is an object in OOP?\n",
        "\n",
        "Ans-  In object-oriented programming (OOP) in Python, an object is a specific instance of a class, representing a unique entity with its own data (attributes) and behavior (methods).\n",
        "\n",
        "Example- Imagine a \"Person\" object: it would have attributes like \"name\" and \"age,\" and methods like \"walk()\" and \"talk()\"."
      ],
      "metadata": {
        "id": "Ze4Nhr-taizz"
      }
    },
    {
      "cell_type": "markdown",
      "source": [
        "4. What is the difference between abstraction and encapsulation?\n",
        "\n",
        "Ans-  ABSTRACTION\n",
        "\n",
        "-> Outer layer, used in terms of design.\n",
        "Example- Outer look of a Mobile Phone, like it has a display screen and keypad buttons to dial a number.\n",
        "\n",
        "-> Abstraction solves the problem in the design level.\n",
        "\n",
        "-> Abstraction is used for hiding the unwanted data and giving relevant data.\n",
        "\n",
        "-> It lets you focus on what the object does instead of how does it.\n",
        "\n",
        "ENCAPSULATION\n",
        "\n",
        "-> Inner layout, used in terms of implementation.\n",
        "Example- Inner implementation detail of a Mobile Phone, how keypad button and Display Screen are connect with each other using ircuits.\n",
        "\n",
        "-> Encapsulation solves the problem in the implementation level.\n",
        "\n",
        "-> It means hiding the code and data into a single unit to protect the data from outside world.\n",
        "\n",
        "-> It means hiding the internal details or mechanics of how an object does something."
      ],
      "metadata": {
        "id": "2g0a1Gaybah5"
      }
    },
    {
      "cell_type": "markdown",
      "source": [
        "5. What are dunder methods in Python?\n",
        "\n",
        "Ans - In Python, dunder methods are methods that allow instances of a class to interact with the built-in functions and operators of the language. The word “dunder” comes from “double underscore”, because the names of dunder methods start and end with two underscores, for example __str__ or __add__. Typically, dunder methods are not invoked directly by the programmer, making it look like they are called by magic. That is why dunder methods are also referred to as “magic methods” sometimes.\n",
        "\n",
        "Dunder methods are not called magically, though. They are just called implicitly by the language, at specific times that are well-defined, and that depend on the dunder method in question."
      ],
      "metadata": {
        "id": "dyoAOjQcdkys"
      }
    },
    {
      "cell_type": "markdown",
      "source": [
        "6. Explain the concept of inheritance in OOP.\n",
        "\n",
        "Ans- In Python's object-oriented programming (OOP), inheritance allows a new class (derived or child class) to inherit attributes and methods from an existing class (base or parent class), promoting code reusability and a hierarchical structure.\n",
        "\n",
        "Why it's useful:\n",
        "\n",
        "-> Code Reusability: Instead of rewriting code, you can reuse the functionality of the parent class in the child class.\n",
        "\n",
        "-> Hierarchical Organization: Inheritance helps create a structured and organized class hierarchy, making your code more readable and maintainable.\n",
        "\n",
        "-> Extending Functionality: Child classes can extend or modify the behavior inherited from the parent class, allowing for specialized functionality."
      ],
      "metadata": {
        "id": "4xjkukIAeBjA"
      }
    },
    {
      "cell_type": "code",
      "source": [
        "#Example\n",
        "# Parent class\n",
        "class Animal:\n",
        "    def __init__(self, name):\n",
        "        self.name = name\n",
        "\n",
        "    def speak(self):\n",
        "        print(\"Generic animal sound\")\n",
        "\n",
        "# Child class inheriting from Animal\n",
        "class Dog(Animal):\n",
        "    def __init__(self, name, breed):\n",
        "        # Call the parent class's __init__ method\n",
        "        super().__init__(name)\n",
        "        self.breed = breed\n",
        "\n",
        "    def speak(self):\n",
        "        print(\"Woof!\")\n",
        "\n",
        "# Create objects\n",
        "animal = Animal(\"Generic Animal\")\n",
        "dog = Dog(\"Buddy\", \"Labrador\")\n",
        "\n",
        "animal.speak()  # Output: Generic animal sound\n",
        "dog.speak()     # Output: Woof!"
      ],
      "metadata": {
        "colab": {
          "base_uri": "https://localhost:8080/"
        },
        "id": "pM1nyYgGesj6",
        "outputId": "c260acb3-e9f2-4a17-a715-fa403cd2f77f"
      },
      "execution_count": 4,
      "outputs": [
        {
          "output_type": "stream",
          "name": "stdout",
          "text": [
            "Generic animal sound\n",
            "Woof!\n"
          ]
        }
      ]
    },
    {
      "cell_type": "markdown",
      "source": [
        "7. What is polymorphism in OOP?\n",
        "\n",
        "Ans- In Python's object-oriented programming, polymorphism means \"many forms\" and allows objects of different classes to be treated as objects of a common base class, enabling flexible and reusable code through techniques like method overriding and operator overloading."
      ],
      "metadata": {
        "id": "NJnE7naGfGpC"
      }
    },
    {
      "cell_type": "code",
      "source": [
        "#Example\n",
        "class Animal:\n",
        "    def speak(self):\n",
        "        print(\"Generic animal sound\")\n",
        "\n",
        "class Dog(Animal):\n",
        "    def speak(self):\n",
        "        print(\"Woof!\")\n",
        "\n",
        "class Cat(Animal):\n",
        "    def speak(self):\n",
        "        print(\"Meow!\")\n",
        "\n",
        "# Polymorphism in action\n",
        "animal = Animal()\n",
        "dog = Dog()\n",
        "cat = Cat()\n",
        "\n",
        "animal.speak()  # Output: Generic animal sound\n",
        "dog.speak()     # Output: Woof!\n",
        "cat.speak()     # Output: Meow!"
      ],
      "metadata": {
        "colab": {
          "base_uri": "https://localhost:8080/"
        },
        "id": "808-Dm1zfVia",
        "outputId": "3e15fa72-3dbc-42cb-95e3-34b26151e886"
      },
      "execution_count": 5,
      "outputs": [
        {
          "output_type": "stream",
          "name": "stdout",
          "text": [
            "Generic animal sound\n",
            "Woof!\n",
            "Meow!\n"
          ]
        }
      ]
    },
    {
      "cell_type": "markdown",
      "source": [
        "8.  How is encapsulation achieved in Python?\n",
        "\n",
        "Ans - Encapsulation is achieved by declaring a class's data members and methods as either private or protected. But in Python, we do not have keywords like public, private, and protected, as in the case of Java. Instead, we achieve this by using single and double underscores.\n",
        "\n",
        "Encapsulation in Python is achieved through the use of access modifiers which restrict access to the methods and variables of a class. This helps in bundling the data (variables) and the methods that act on the data into a single unit or class. Python primarily uses two types of access modifiers: public and private"
      ],
      "metadata": {
        "id": "pQ_TqxuTx23a"
      }
    },
    {
      "cell_type": "markdown",
      "source": [
        "9. What is a constructor in Python?\n",
        "\n",
        "Ans - Constructors in Python is a special class method for creating and initializing an object instance at that class. Every Python class has a constructor; it's not required to be defined explicitly. The purpose of the constructor is to construct an object and assign a value to the object's members."
      ],
      "metadata": {
        "id": "5WGMLHsdrAch"
      }
    },
    {
      "cell_type": "code",
      "source": [
        "#Example\n",
        "class Dog:\n",
        "    def __init__(self, name, breed):\n",
        "        self.name = name  # 'self' refers to the instance of the class\n",
        "        self.breed = breed\n",
        "\n",
        "# Create a Dog object\n",
        "my_dog = Dog(\"Buddy\", \"Golden Retriever\")\n",
        "\n",
        "# Access the object's attributes\n",
        "print(f\"{my_dog.name} is a {my_dog.breed}\")"
      ],
      "metadata": {
        "colab": {
          "base_uri": "https://localhost:8080/"
        },
        "id": "nI8OAC8OrRr2",
        "outputId": "17ba4846-fe70-4200-8718-00d4b62cbbe5"
      },
      "execution_count": 1,
      "outputs": [
        {
          "output_type": "stream",
          "name": "stdout",
          "text": [
            "Buddy is a Golden Retriever\n"
          ]
        }
      ]
    },
    {
      "cell_type": "markdown",
      "source": [
        "10. What are class and static methods in Python?\n",
        "\n",
        "Ans - Class Method\n",
        "\n",
        "-> Binding - Bound to the class\n",
        "\n",
        "-> First Parameter - Takes cls (the class itself)\n",
        "\n",
        "-> Access to class/instance data - Can access and modify class-level data\n",
        "\n",
        "-> Common use cases - Factory methods, class-level behavior\n",
        "\n",
        "-> Decorator - @classmethod\n",
        "\n",
        "Static Method\n",
        "\n",
        "-> Binding - Not bound to the class or instance\n",
        "\n",
        "-> First Parameter - No special first parameter (self or cls)\n",
        "\n",
        "-> Access to class/instance data - Cannot access class/instance data\n",
        "\n",
        "-> Common use cases - Utility functions, helper methods\n",
        "\n",
        "-> Decorator - @staticmethod"
      ],
      "metadata": {
        "id": "vtdOaQ2IrZDD"
      }
    },
    {
      "cell_type": "markdown",
      "source": [
        "11. What is method overloading in Python?\n",
        "\n",
        "Ans- Method overloading in Python provides a way to handle different types or numbers of inputs using a single method name, making your code more flexible and easier to maintain. While Python does not directly support method overloading like other languages, you can simulate it using default arguments, *args, or **kwargs.\n",
        "\n",
        "One common form of overloading is changing the number of arguments in the method signature. In this example, we have created two methods, the first add() method performs addition of two numbers, and the second add method performs addition of three numbers."
      ],
      "metadata": {
        "id": "5wDcrPbKtQv9"
      }
    },
    {
      "cell_type": "markdown",
      "source": [
        "12.  What is method overriding in OOP?\n",
        "\n",
        "Ans - In Object-Oriented Programming (OOP), method overriding allows a subclass to provide a specific implementation of a method that is already defined in its superclass, enabling specialized behavior while maintaining the same method signature.\n",
        "\n",
        "Example:\n",
        "Imagine a Shape class with a method draw(). A Circle class (subclass of Shape) can override the draw() method to provide its own implementation for drawing a circle, while still using the same method name and signature as the Shape class's draw() method"
      ],
      "metadata": {
        "id": "jL8j65duuFR5"
      }
    },
    {
      "cell_type": "markdown",
      "source": [
        "13. What is a property decorator in Python?\n",
        "\n",
        "Ans - The Python property decorator makes attributes in a class act like read-only properties. Essentially, it lets you access methods as if they were attributes, without needing to write parentheses."
      ],
      "metadata": {
        "id": "414y4a2guZL0"
      }
    },
    {
      "cell_type": "code",
      "source": [
        "#Example - Suppose you're working on a machine learning model for predicting stock prices. You have a Python class for the model,\n",
        "# and you want to expose the model's accuracy without allowing it to be changed from outside the class.\n",
        "class StockPredictor:\n",
        "    def __init__(self):\n",
        "        self._accuracy = 0.95\n",
        "\n",
        "    @property\n",
        "    def accuracy(self):\n",
        "        return self._accuracy\n",
        "\n",
        "# Create a StockPredictor object\n",
        "predictor = StockPredictor()\n",
        "\n",
        "# Access the accuracy property\n",
        "print(predictor.accuracy)\n",
        "\n",
        "# Try to modify the accuracy property\n",
        "# predictor.accuracy = 0.96"
      ],
      "metadata": {
        "colab": {
          "base_uri": "https://localhost:8080/"
        },
        "id": "pOYOm6Q1uoLe",
        "outputId": "92d92cf9-65b8-474f-98cc-879da8156909"
      },
      "execution_count": 2,
      "outputs": [
        {
          "output_type": "stream",
          "name": "stdout",
          "text": [
            "0.95\n"
          ]
        }
      ]
    },
    {
      "cell_type": "markdown",
      "source": [
        "14. Why is polymorphism important in OOP?\n",
        "\n",
        "Ans - Polymorphism is crucial in Object-Oriented Programming (OOP) because it enables code reusability, flexibility, and extensibility by allowing objects of different classes to be treated uniformly through a common interface, promoting more maintainable and adaptable software.\n",
        "\n",
        "-> Abstraction:\n",
        "Polymorphism contributes to abstraction, allowing programmers to focus on defining common behaviors and characteristics shared among various objects rather than specific implementations.\n",
        "\n",
        "-> Simplified Implementation:\n",
        "Polymorphism allows you to focus on the common behaviors and characteristics of objects rather than their specific implementations, leading to cleaner and more readable code.\n",
        "\n",
        "-> Code Reusability:\n",
        "Polymorphism, achieved through inheritance and interfaces, allows you to write code that can work with different types of objects without needing to write separate logic for each type."
      ],
      "metadata": {
        "id": "eknGt8p4u7V3"
      }
    },
    {
      "cell_type": "markdown",
      "source": [
        "15. What is an abstract class in Python?\n",
        "\n",
        "Ans - In Python, an abstract class is a blueprint for other classes that cannot be instantiated directly and contains one or more abstract methods (methods without implementation) that derived classes must implement.\n"
      ],
      "metadata": {
        "id": "m5m4qFBpvQYN"
      }
    },
    {
      "cell_type": "code",
      "source": [
        "#Example\n",
        "from abc import ABC, abstractmethod\n",
        "import math\n",
        "\n",
        "# Abstract class\n",
        "class Shape(ABC):\n",
        "    @abstractmethod\n",
        "    def area(self):\n",
        "        pass\n",
        "\n",
        "# Concrete class implementing the abstract method\n",
        "class Circle(Shape):\n",
        "    def __init__(self, radius):\n",
        "        self.radius = radius\n",
        "\n",
        "    def area(self):\n",
        "        return math.pi * self.radius**2\n",
        "\n",
        "# Concrete class implementing the abstract method\n",
        "class Rectangle(Shape):\n",
        "    def __init__(self, width, height):\n",
        "        self.width = width\n",
        "        self.height = height\n",
        "\n",
        "    def area(self):\n",
        "        return self.width * self.height\n",
        "\n",
        "# Example usage\n",
        "circle = Circle(5)\n",
        "rectangle = Rectangle(4, 6)\n",
        "\n",
        "print(f\"Area of circle: {circle.area()}\")\n",
        "print(f\"Area of rectangle: {rectangle.area()}\")"
      ],
      "metadata": {
        "colab": {
          "base_uri": "https://localhost:8080/"
        },
        "id": "3VbPV925vkaG",
        "outputId": "60b7edc8-10e4-4226-d8e4-9fd39c9c86b4"
      },
      "execution_count": 3,
      "outputs": [
        {
          "output_type": "stream",
          "name": "stdout",
          "text": [
            "Area of circle: 78.53981633974483\n",
            "Area of rectangle: 24\n"
          ]
        }
      ]
    },
    {
      "cell_type": "markdown",
      "source": [
        "16. What are the advantages of OOP?\n",
        "\n",
        "Ans - Object-Oriented Programming (OOP) offers advantages like improved code organization, reusability through inheritance, flexibility with polymorphism, and easier maintenance and debugging due to modularity and encapsulation.\n",
        "\n",
        "-> Code Reusability:\n",
        "OOP allows for code reusability through inheritance, where classes can inherit properties and methods from parent classes.\n",
        "This reduces code duplication and saves development time.\n",
        "\n",
        "->  Increased Flexibility and Extensibility:\n",
        "Polymorphism, another core OOP concept, enables objects of different types to be treated as objects of a common type, increasing code flexibility.\n",
        "This allows for easier adaptation to changing requirements and the addition of new features.\n",
        "\n",
        "->  Improved Code Organization and Modularity:\n",
        "OOP promotes a modular approach by breaking down complex problems into smaller, manageable objects, each with its own data and behavior.\n",
        "This modularity makes it easier to understand, maintain, and debug the code."
      ],
      "metadata": {
        "id": "C_hDh6bKvpKx"
      }
    },
    {
      "cell_type": "markdown",
      "source": [
        "17.  What is the difference between a class variable and an instance variable?\n",
        "\n",
        "Ans- CLASS VARIABLES\n",
        "\n",
        "-> Definition - Class variables are defined within the class but outside of any class methods.\n",
        "\n",
        "-> Scope - Changes made to the class variable affect all instances.\n",
        "\n",
        "-> Initialization - Class variables can be initialized either inside the class definition or outside the class definition.\n",
        "\n",
        "-> Access - Class variables are accessed using the class name, followed by the variable name.\n",
        "\n",
        "-> Usage - Class variables are useful for storing data that is shared among all instances of a class, such as constants or default values.\n",
        "\n",
        "INSTANCE VARIABLES\n",
        "\n",
        "-> Definition - Instance variables are defined within class methods, typically the constructor.\n",
        "\n",
        "-> Scope - Changes made to the instance variable does not affect all instances.\n",
        "\n",
        "-> Initialization - Instance variables are typically initialized in the constructor of the class.\n",
        "\n",
        "-> Access - Instance variables are accessed using the instance name, followed by the variable name.\n",
        "\n",
        "-> Usage - Instance variables are used to store data that is unique to each instance of a class, such as object properties."
      ],
      "metadata": {
        "id": "9Uaj9Lg-BOe4"
      }
    },
    {
      "cell_type": "markdown",
      "source": [
        "18. What is multiple inheritance in Python?\n",
        "\n",
        "Ans - In Python, multiple inheritance allows a class to inherit attributes and methods from more than one parent class, enabling a class to combine behaviors or attributes from multiple sources.\n",
        "\n",
        " For example, you are inheriting some of the features from your father and some from your mother. In this case, we have to write the names of both parent classes inside the brackets of the child class."
      ],
      "metadata": {
        "id": "Kt7DIRDlD2xE"
      }
    },
    {
      "cell_type": "markdown",
      "source": [
        "19. Explain the purpose of ‘’__str__’ and ‘__repr__’ ‘ methods in Python.\n",
        "\n",
        "Ans - In Python, __str__ provides a user-friendly, informal string representation of an object, while __repr__ offers a more developer-focused, unambiguous representation, often useful for debugging and object inspection.\n",
        "\n",
        "__str__\n",
        "\n",
        "-> This method is called by the str() function and the print() function to get a string representation of an object.\n",
        "\n",
        "-> The string returned by __str__ should be easy to read and understand for end-users.\n",
        "\n",
        "__repr__\n",
        "\n",
        "-> This method is called by the repr() function and is used to get a formal, unambiguous string representation of an object.\n",
        "\n",
        "-> The string returned by __repr__ should be informative and, ideally, allow you to recreate the object using eval()."
      ],
      "metadata": {
        "id": "qZ_8MZEmEHYZ"
      }
    },
    {
      "cell_type": "markdown",
      "source": [
        "20. What is the significance of the ‘super()’ function in Python?\n",
        "\n",
        "Ans - In Python, the super() function is crucial for object-oriented programming, specifically when dealing with inheritance. It allows a subclass to access and call methods and attributes of its parent (superclass) without explicitly naming the parent class, promoting code reusability and maintainability."
      ],
      "metadata": {
        "id": "kR0w8BbvH-Ml"
      }
    },
    {
      "cell_type": "markdown",
      "source": [
        "21. What is the significance of the __del__ method in Python?\n",
        "\n",
        "Ans - In Python, the __del__() method, also known as a destructor or finalizer, is called when an object is about to be garbage collected, allowing for cleanup of resources before the object is destroyed.\n",
        "\n",
        "Purpose:\n",
        "\n",
        "The primary purpose of __del__() is to perform any necessary cleanup tasks when an object is no longer in use, such as closing files, releasing network connections, or releasing other external resources."
      ],
      "metadata": {
        "id": "It6019SMIkwG"
      }
    },
    {
      "cell_type": "markdown",
      "source": [
        "22. What is the difference between @staticmethod and @classmethod in Python?\n",
        "\n",
        "Ans - In Python, @classmethod binds the method to the class itself, allowing access to class attributes via the cls argument, while @staticmethod defines a method that's part of the class but doesn't have access to either class or instance attributes.\n",
        "\n",
        "@classmethod\n",
        "\n",
        "-> Binding - The method is bound to the class, and the first argument passed to the method is the class itself (conventionally named cls).\n",
        "\n",
        "-> Access to Class and Instance Attributes - Can access and modify class-level attributes using cls.\n",
        "\n",
        "-> Use Cases - Useful for creating alternative constructors.\n",
        "\n",
        "@staticmethod\n",
        "\n",
        "-> Binding- The method is bound to the class but doesn't receive any implicit arguments (neither self nor cls).\n",
        "\n",
        "-> Access to Class and Insurance Attributes -  Cannot access or modify class or instance attributes directly.\n",
        "\n",
        "-> Use Cases - Suitable for utility functions that don't depend on class or instance state."
      ],
      "metadata": {
        "id": "wlp7UMy2I2AG"
      }
    },
    {
      "cell_type": "markdown",
      "source": [
        "23. How does polymorphism work in Python with inheritance?\n",
        "\n",
        "Ans - In Python, polymorphism with inheritance, achieved through method overriding, allows child classes to redefine methods inherited from parent classes, enabling objects of different classes to be treated as objects of a common type, promoting flexibility and code reusability.\n",
        "\n",
        "Inheritance:\n",
        "A child class (subclass) inherits attributes and methods from a parent class (superclass).\n",
        "\n",
        "Method Overriding:\n",
        "A child class can redefine a method that it inherits from the parent class.\n",
        "\n",
        "Polymorphism:\n",
        "\"Many forms\" in Greek, polymorphism allows objects of different classes to respond to the same method call in different ways.\n",
        "\n",
        "Example:\n",
        "Imagine a Vehicle class with a move() method. Car, Boat, and Plane classes inherit from Vehicle but override the move() method to reflect their specific movement behaviors (e.g., Car.move() might print \"Driving\", while Boat.move() might print \"Sailing\")."
      ],
      "metadata": {
        "id": "uOQ_I7B7L5CU"
      }
    },
    {
      "cell_type": "markdown",
      "source": [
        "24.  What is method chaining in Python OOP?\n",
        "\n",
        "Ans - In Python's object-oriented programming, method chaining allows you to call multiple methods on the same object in a single line, enhancing code readability and conciseness, by ensuring each method returns the object itself.\n",
        "\n"
      ],
      "metadata": {
        "id": "ROPuyYQUNmXx"
      }
    },
    {
      "cell_type": "code",
      "source": [
        "#Example\n",
        "class MyClass:\n",
        "    def method1(self):\n",
        "        print(\"method1 called\")\n",
        "        return self  # Crucial for chaining\n",
        "    def method2(self):\n",
        "        print(\"method2 called\")\n",
        "        return self\n",
        "    def method3(self):\n",
        "        print(\"method3 called\")\n",
        "        return self\n",
        "\n",
        "obj = MyClass()\n",
        "obj.method1().method2().method3()\n",
        "# Output:\n",
        "# method1 called\n",
        "# method2 called\n",
        "# method3 called"
      ],
      "metadata": {
        "colab": {
          "base_uri": "https://localhost:8080/"
        },
        "id": "KMxWBR05OJiO",
        "outputId": "83f6f26e-d992-46b6-fe3a-0b7b176280ed"
      },
      "execution_count": 2,
      "outputs": [
        {
          "output_type": "stream",
          "name": "stdout",
          "text": [
            "method1 called\n",
            "method2 called\n",
            "method3 called\n"
          ]
        },
        {
          "output_type": "execute_result",
          "data": {
            "text/plain": [
              "<__main__.MyClass at 0x7b8870defa90>"
            ]
          },
          "metadata": {},
          "execution_count": 2
        }
      ]
    },
    {
      "cell_type": "markdown",
      "source": [
        "25. What is the purpose of the __call__ method in Python?\n",
        "\n",
        "Ans - The __call__ method in Python allows you to make instances of a class callable, meaning you can treat them like functions and call them using parentheses, like instance().\n",
        "\n",
        "Purpose: To enable instances of a class to be invoked as if they were functions."
      ],
      "metadata": {
        "id": "ZFR0gJ-4OOQq"
      }
    },
    {
      "cell_type": "markdown",
      "source": [
        "## PRACTICAL QUESTIONS\n",
        "\n",
        "1. Create a parent class Animal with a method speak() that prints a generic message. Create a child class Dog that overrides the speak() method to print \"Bark!\".\n",
        "\n"
      ],
      "metadata": {
        "id": "mevX6hA4Orum"
      }
    },
    {
      "cell_type": "code",
      "source": [
        "# Parent class\n",
        "class Animal:\n",
        "    def speak(self):\n",
        "        print(\"This animal makes a sound.\")\n",
        "\n",
        "# Child class\n",
        "class Dog(Animal):\n",
        "    def speak(self):\n",
        "        print(\"Bark!\")\n",
        "\n",
        "# Example usage\n",
        "if __name__ == \"__main__\":\n",
        "    animal = Animal()\n",
        "    animal.speak()  # Output: This animal makes a sound.\n",
        "\n",
        "    dog = Dog()\n",
        "    dog.speak()     # Output: Bark!"
      ],
      "metadata": {
        "colab": {
          "base_uri": "https://localhost:8080/"
        },
        "id": "SeDMjlnwPGEr",
        "outputId": "051e942f-104c-4dbb-bf65-d1b8be8f2256"
      },
      "execution_count": 3,
      "outputs": [
        {
          "output_type": "stream",
          "name": "stdout",
          "text": [
            "This animal makes a sound.\n",
            "Bark!\n"
          ]
        }
      ]
    },
    {
      "cell_type": "markdown",
      "source": [
        "2.  Write a program to create an abstract class Shape with a method area(). Derive classes Circle and Rectangle from it and implement the area() method in both."
      ],
      "metadata": {
        "id": "1Q2Iz0KAPeoB"
      }
    },
    {
      "cell_type": "code",
      "source": [
        "from abc import ABC, abstractmethod\n",
        "import math\n",
        "\n",
        "# Abstract class\n",
        "class Shape(ABC):\n",
        "    @abstractmethod\n",
        "    def area(self):\n",
        "        pass\n",
        "\n",
        "# Derived class for Circle\n",
        "class Circle(Shape):\n",
        "    def __init__(self, radius):\n",
        "        self.radius = radius\n",
        "\n",
        "    def area(self):\n",
        "        return math.pi * (self.radius ** 2)\n",
        "\n",
        "# Derived class for Rectangle\n",
        "class Rectangle(Shape):\n",
        "    def __init__(self, width, height):\n",
        "        self.width = width\n",
        "        self.height = height\n",
        "\n",
        "    def area(self):\n",
        "        return self.width * self.height\n",
        "\n",
        "# Example usage\n",
        "if __name__ == \"__main__\":\n",
        "    circle = Circle(5)\n",
        "    print(f\"Area of Circle: {circle.area()}\")  # Output: Area of Circle: 78.53981633974483\n",
        "\n",
        "    rectangle = Rectangle(4, 6)\n",
        "    print(f\"Area of Rectangle: {rectangle.area()}\")  # Output: Area of Rectangle: 24"
      ],
      "metadata": {
        "colab": {
          "base_uri": "https://localhost:8080/"
        },
        "id": "4o7wHe6qPlhj",
        "outputId": "58ab292b-9c2f-49a1-caea-c54bf53e04b7"
      },
      "execution_count": 4,
      "outputs": [
        {
          "output_type": "stream",
          "name": "stdout",
          "text": [
            "Area of Circle: 78.53981633974483\n",
            "Area of Rectangle: 24\n"
          ]
        }
      ]
    },
    {
      "cell_type": "markdown",
      "source": [
        "3.  Implement a multi-level inheritance scenario where a class Vehicle has an attribute type. Derive a class Car and further derive a class ElectricCar that adds a battery attribute.\n"
      ],
      "metadata": {
        "id": "zB1HcCAtPqQm"
      }
    },
    {
      "cell_type": "code",
      "source": [
        "# Base class\n",
        "class Vehicle:\n",
        "    def __init__(self, vehicle_type):\n",
        "        self.vehicle_type = vehicle_type\n",
        "\n",
        "    def display_type(self):\n",
        "        print(f\"Vehicle Type: {self.vehicle_type}\")\n",
        "\n",
        "# Derived class\n",
        "class Car(Vehicle):\n",
        "    def __init__(self, vehicle_type, brand):\n",
        "        super().__init__(vehicle_type)  # Call the constructor of Vehicle\n",
        "        self.brand = brand\n",
        "\n",
        "    def display_info(self):\n",
        "        self.display_type()  # Call the method from Vehicle\n",
        "        print(f\"Car Brand: {self.brand}\")\n",
        "\n",
        "# Further derived class\n",
        "class ElectricCar(Car):\n",
        "    def __init__(self, vehicle_type, brand, battery):\n",
        "        super().__init__(vehicle_type, brand)  # Call the constructor of Car\n",
        "        self.battery = battery\n",
        "\n",
        "    def display_info(self):\n",
        "        super().display_info()  # Call the method from Car\n",
        "        print(f\"Battery Capacity: {self.battery} kWh\")\n",
        "\n",
        "# Example usage\n",
        "if __name__ == \"__main__\":\n",
        "    vehicle = Vehicle(\"General Vehicle\")\n",
        "    vehicle.display_type()  # Output: Vehicle Type: General Vehicle\n",
        "\n",
        "    car = Car(\"Car\", \"Toyota\")\n",
        "    car.display_info()\n",
        "    # Output:\n",
        "    # Vehicle Type: Car\n",
        "    # Car Brand: Toyota\n",
        "\n",
        "    electric_car = ElectricCar(\"Electric Car\", \"Tesla\", 75)\n",
        "    electric_car.display_info()\n",
        "    # Output:\n",
        "    # Vehicle Type: Electric Car\n",
        "    # Car Brand: Tesla\n",
        "    # Battery Capacity: 75 kWh"
      ],
      "metadata": {
        "colab": {
          "base_uri": "https://localhost:8080/"
        },
        "id": "84tu3cucPu2v",
        "outputId": "d0677c79-5af2-42e3-ef49-bdfd85c2c8f1"
      },
      "execution_count": 5,
      "outputs": [
        {
          "output_type": "stream",
          "name": "stdout",
          "text": [
            "Vehicle Type: General Vehicle\n",
            "Vehicle Type: Car\n",
            "Car Brand: Toyota\n",
            "Vehicle Type: Electric Car\n",
            "Car Brand: Tesla\n",
            "Battery Capacity: 75 kWh\n"
          ]
        }
      ]
    },
    {
      "cell_type": "markdown",
      "source": [
        "4.  Demonstrate polymorphism by creating a base class Bird with a method fly(). Create two derived classes Sparrow and Penguin that override the fly() method."
      ],
      "metadata": {
        "id": "KqXdChFcP5Zl"
      }
    },
    {
      "cell_type": "code",
      "source": [
        "# Base class\n",
        "class Bird:\n",
        "    def fly(self):\n",
        "        raise NotImplementedError(\"Subclasses must implement this method\")\n",
        "\n",
        "# Derived class for Sparrow\n",
        "class Sparrow(Bird):\n",
        "    def fly(self):\n",
        "        return \"Sparrow flies high in the sky!\"\n",
        "\n",
        "# Derived class for Penguin\n",
        "class Penguin(Bird):\n",
        "    def fly(self):\n",
        "        return \"Penguins cannot fly, but they can swim!\"\n",
        "\n",
        "# Function to demonstrate polymorphism\n",
        "def bird_fly(bird):\n",
        "    print(bird.fly())\n",
        "\n",
        "# Example usage\n",
        "if __name__ == \"__main__\":\n",
        "    sparrow = Sparrow()\n",
        "    penguin = Penguin()\n",
        "\n",
        "    bird_fly(sparrow)  # Output: Sparrow flies high in the sky!\n",
        "    bird_fly(penguin)  # Output: Penguins cannot fly, but they can swim!"
      ],
      "metadata": {
        "colab": {
          "base_uri": "https://localhost:8080/"
        },
        "id": "LCJIhOqmQB9C",
        "outputId": "9fab0327-d7ad-4ee1-b1d6-b1e4d70b53b8"
      },
      "execution_count": 6,
      "outputs": [
        {
          "output_type": "stream",
          "name": "stdout",
          "text": [
            "Sparrow flies high in the sky!\n",
            "Penguins cannot fly, but they can swim!\n"
          ]
        }
      ]
    },
    {
      "cell_type": "markdown",
      "source": [
        "5. Write a program to demonstrate encapsulation by creating a class BankAccount with private attributes balance and methods to deposit, withdraw, and check balance."
      ],
      "metadata": {
        "id": "f8gt4zdOQK4Q"
      }
    },
    {
      "cell_type": "code",
      "source": [
        "class BankAccount:\n",
        "    def __init__(self, initial_balance=0):\n",
        "        self.__balance = initial_balance  # Private attribute\n",
        "\n",
        "    def deposit(self, amount):\n",
        "        if amount > 0:\n",
        "            self.__balance += amount\n",
        "            print(f\"Deposited: ${amount:.2f}\")\n",
        "        else:\n",
        "            print(\"Deposit amount must be positive.\")\n",
        "\n",
        "    def withdraw(self, amount):\n",
        "        if 0 < amount <= self.__balance:\n",
        "            self.__balance -= amount\n",
        "            print(f\"Withdrew: ${amount:.2f}\")\n",
        "        else:\n",
        "            print(\"Insufficient funds or invalid withdrawal amount.\")\n",
        "\n",
        "    def check_balance(self):\n",
        "        return f\"Current balance: ${self.__balance:.2f}\"\n",
        "\n",
        "# Example usage\n",
        "if __name__ == \"__main__\":\n",
        "    account = BankAccount(100)  # Create an account with an initial balance of $100\n",
        "\n",
        "    print(account.check_balance())  # Output: Current balance: $100.00\n",
        "\n",
        "    account.deposit(50)  # Deposit $50\n",
        "    print(account.check_balance())  # Output: Current balance: $150.00\n",
        "\n",
        "    account.withdraw(30)  # Withdraw $30\n",
        "    print(account.check_balance())  # Output: Current balance: $120.00\n",
        "\n",
        "    account.withdraw(200)  # Attempt to withdraw more than the balance\n",
        "    print(account.check_balance())  # Output: Current balance: $120.00"
      ],
      "metadata": {
        "colab": {
          "base_uri": "https://localhost:8080/"
        },
        "id": "Q-G7tCFPQRqy",
        "outputId": "7a5f0f3d-abb1-4c61-e02e-b53c955cec6a"
      },
      "execution_count": 7,
      "outputs": [
        {
          "output_type": "stream",
          "name": "stdout",
          "text": [
            "Current balance: $100.00\n",
            "Deposited: $50.00\n",
            "Current balance: $150.00\n",
            "Withdrew: $30.00\n",
            "Current balance: $120.00\n",
            "Insufficient funds or invalid withdrawal amount.\n",
            "Current balance: $120.00\n"
          ]
        }
      ]
    },
    {
      "cell_type": "markdown",
      "source": [
        " 6. Demonstrate runtime polymorphism using a method play() in a base class Instrument. Derive classes Guitar and Piano that implement their own version of play()."
      ],
      "metadata": {
        "id": "OhMkZrTbQgfo"
      }
    },
    {
      "cell_type": "code",
      "source": [
        "# Base class\n",
        "class Instrument:\n",
        "    def play(self):\n",
        "        raise NotImplementedError(\"Subclasses must implement this method\")\n",
        "\n",
        "# Derived class for Guitar\n",
        "class Guitar(Instrument):\n",
        "    def play(self):\n",
        "        return \"Strumming the guitar!\"\n",
        "\n",
        "# Derived class for Piano\n",
        "class Piano(Instrument):\n",
        "    def play(self):\n",
        "        return \"Playing the piano!\"\n",
        "\n",
        "# Function to demonstrate runtime polymorphism\n",
        "def instrument_play(instrument):\n",
        "    print(instrument.play())\n",
        "\n",
        "# Example usage\n",
        "if __name__ == \"__main__\":\n",
        "    # Create instances of Guitar and Piano\n",
        "    guitar = Guitar()\n",
        "    piano = Piano()\n",
        "\n",
        "    # Demonstrate runtime polymorphism\n",
        "    instrument_play(guitar)  # Output: Strumming the guitar!\n",
        "    instrument_play(piano)    # Output: Playing the piano!"
      ],
      "metadata": {
        "colab": {
          "base_uri": "https://localhost:8080/"
        },
        "id": "EarLOs58QkWU",
        "outputId": "5e2cf9e5-cc14-431a-e4e7-e55b89e90921"
      },
      "execution_count": 8,
      "outputs": [
        {
          "output_type": "stream",
          "name": "stdout",
          "text": [
            "Strumming the guitar!\n",
            "Playing the piano!\n"
          ]
        }
      ]
    },
    {
      "cell_type": "markdown",
      "source": [
        " 7. Create a class MathOperations with a class method add_numbers() to add two numbers and a static method subtract_numbers() to subtract two numbers."
      ],
      "metadata": {
        "id": "nS-b8PV4RKbz"
      }
    },
    {
      "cell_type": "code",
      "source": [
        "class MathOperations:\n",
        "    @classmethod\n",
        "    def add_numbers(cls, a, b):\n",
        "        \"\"\"Class method to add two numbers.\"\"\"\n",
        "        return a + b\n",
        "\n",
        "    @staticmethod\n",
        "    def subtract_numbers(a, b):\n",
        "        \"\"\"Static method to subtract two numbers.\"\"\"\n",
        "        return a - b\n",
        "\n",
        "# Example usage\n",
        "if __name__ == \"__main__\":\n",
        "    # Using the class method to add numbers\n",
        "    sum_result = MathOperations.add_numbers(10, 5)\n",
        "    print(f\"Sum: {sum_result}\")  # Output: Sum: 15\n",
        "\n",
        "    # Using the static method to subtract numbers\n",
        "    difference_result = MathOperations.subtract_numbers(10, 5)\n",
        "    print(f\"Difference: {difference_result}\")  # Output: Difference: 5"
      ],
      "metadata": {
        "colab": {
          "base_uri": "https://localhost:8080/"
        },
        "id": "UcP67ABIROgb",
        "outputId": "e7b44cd2-61c5-43a3-d7f7-4c4250a3b7dc"
      },
      "execution_count": 9,
      "outputs": [
        {
          "output_type": "stream",
          "name": "stdout",
          "text": [
            "Sum: 15\n",
            "Difference: 5\n"
          ]
        }
      ]
    },
    {
      "cell_type": "markdown",
      "source": [
        " 8. Implement a class Person with a class method to count the total number of persons created."
      ],
      "metadata": {
        "id": "-CAVr2STRWXy"
      }
    },
    {
      "cell_type": "code",
      "source": [
        "class Person:\n",
        "    # Class variable to keep track of the number of Person instances\n",
        "    total_persons = 0\n",
        "\n",
        "    def __init__(self, name):\n",
        "        self.name = name\n",
        "        # Increment the count of total persons whenever a new instance is created\n",
        "        Person.total_persons += 1\n",
        "\n",
        "    @classmethod\n",
        "    def count_persons(cls):\n",
        "        \"\"\"Class method to return the total number of Person instances created.\"\"\"\n",
        "        return cls.total_persons\n",
        "\n",
        "# Example usage\n",
        "if __name__ == \"__main__\":\n",
        "    person1 = Person(\"Alice\")\n",
        "    person2 = Person(\"Bob\")\n",
        "    person3 = Person(\"Charlie\")\n",
        "\n",
        "    # Count the total number of persons created\n",
        "    total_count = Person.count_persons()\n",
        "    print(f\"Total number of persons created: {total_count}\")  # Output: Total number of persons created: 3"
      ],
      "metadata": {
        "colab": {
          "base_uri": "https://localhost:8080/"
        },
        "id": "-7hfL5oORajB",
        "outputId": "77d1efcf-e409-423e-c282-98e4fceba7ca"
      },
      "execution_count": 10,
      "outputs": [
        {
          "output_type": "stream",
          "name": "stdout",
          "text": [
            "Total number of persons created: 3\n"
          ]
        }
      ]
    },
    {
      "cell_type": "markdown",
      "source": [
        " 9. Write a class Fraction with attributes numerator and denominator. Override the str method to display the fraction as \"numerator/denominator\"."
      ],
      "metadata": {
        "id": "8EvXV1Z8RjG1"
      }
    },
    {
      "cell_type": "code",
      "source": [
        "class Fraction:\n",
        "    def __init__(self, numerator, denominator):\n",
        "        if denominator == 0:\n",
        "            raise ValueError(\"Denominator cannot be zero.\")\n",
        "        self.numerator = numerator\n",
        "        self.denominator = denominator\n",
        "\n",
        "    def __str__(self):\n",
        "        return f\"{self.numerator}/{self.denominator}\"\n",
        "\n",
        "# Example usage\n",
        "if __name__ == \"__main__\":\n",
        "    fraction1 = Fraction(3, 4)\n",
        "    fraction2 = Fraction(5, 2)\n",
        "\n",
        "    print(f\"Fraction 1: {fraction1}\")  # Output: Fraction 1: 3/4\n",
        "    print(f\"Fraction 2: {fraction2}\")  # Output: Fraction 2: 5/2"
      ],
      "metadata": {
        "colab": {
          "base_uri": "https://localhost:8080/"
        },
        "id": "fY6yLCF7RnYz",
        "outputId": "113db442-092b-4bb3-bfa9-bb97d2a88fd2"
      },
      "execution_count": 11,
      "outputs": [
        {
          "output_type": "stream",
          "name": "stdout",
          "text": [
            "Fraction 1: 3/4\n",
            "Fraction 2: 5/2\n"
          ]
        }
      ]
    },
    {
      "cell_type": "markdown",
      "source": [
        " 10. Demonstrate operator overloading by creating a class Vector and overriding the add method to add two vectors."
      ],
      "metadata": {
        "id": "5PLtBXafR03T"
      }
    },
    {
      "cell_type": "code",
      "source": [
        "class Vector:\n",
        "    def __init__(self, x, y):\n",
        "        self.x = x\n",
        "        self.y = y\n",
        "\n",
        "    def __add__(self, other):\n",
        "        \"\"\"Overload the + operator to add two vectors.\"\"\"\n",
        "        if isinstance(other, Vector):\n",
        "            return Vector(self.x + other.x, self.y + other.y)\n",
        "        return NotImplemented\n",
        "\n",
        "    def __str__(self):\n",
        "        \"\"\"Return a string representation of the vector.\"\"\"\n",
        "        return f\"({self.x}, {self.y})\"\n",
        "\n",
        "# Example usage\n",
        "if __name__ == \"__main__\":\n",
        "    vector1 = Vector(2, 3)\n",
        "    vector2 = Vector(4, 5)\n",
        "\n",
        "    # Adding two vectors using the overloaded + operator\n",
        "    result_vector = vector1 + vector2\n",
        "\n",
        "    print(f\"Vector 1: {vector1}\")  # Output: Vector 1: (2, 3)\n",
        "    print(f\"Vector 2: {vector2}\")  # Output: Vector 2: (4, 5)\n",
        "    print(f\"Resultant Vector: {result_vector}\")  # Output: Resultant Vector: (6, 8)"
      ],
      "metadata": {
        "colab": {
          "base_uri": "https://localhost:8080/"
        },
        "id": "Yn4ziagcSCiB",
        "outputId": "4e4ef39f-11ec-42e9-eebc-010bf6543705"
      },
      "execution_count": 13,
      "outputs": [
        {
          "output_type": "stream",
          "name": "stdout",
          "text": [
            "Vector 1: (2, 3)\n",
            "Vector 2: (4, 5)\n",
            "Resultant Vector: (6, 8)\n"
          ]
        }
      ]
    },
    {
      "cell_type": "markdown",
      "source": [
        " 11. Create a class Person with attributes name and age. Add a method greet() that prints \"Hello, my name is {name} and I am {age} years old."
      ],
      "metadata": {
        "id": "_sdk-Ko3Tej-"
      }
    },
    {
      "cell_type": "code",
      "source": [
        "class Person:\n",
        "    def __init__(self, name, age):\n",
        "        self.name = name\n",
        "        self.age = age\n",
        "\n",
        "    def greet(self):\n",
        "        \"\"\"Print a greeting message.\"\"\"\n",
        "        print(f\"Hello, my name is {self.name} and I am {self.age} years old.\")\n",
        "\n",
        "# Example usage\n",
        "if __name__ == \"__main__\":\n",
        "    # Create an instance of Person\n",
        "    person1 = Person(\"Alice\", 30)\n",
        "    person2 = Person(\"Bob\", 25)\n",
        "\n",
        "    # Call the greet method\n",
        "    person1.greet()  # Output: Hello, my name is Alice and I am 30 years old.\n",
        "    person2.greet()  # Output: Hello, my name is Bob and I am 25 years old."
      ],
      "metadata": {
        "colab": {
          "base_uri": "https://localhost:8080/"
        },
        "id": "P_-bSc2PTs9i",
        "outputId": "42f79241-b9d8-4ea2-ee20-ba84dfc33f13"
      },
      "execution_count": 14,
      "outputs": [
        {
          "output_type": "stream",
          "name": "stdout",
          "text": [
            "Hello, my name is Alice and I am 30 years old.\n",
            "Hello, my name is Bob and I am 25 years old.\n"
          ]
        }
      ]
    },
    {
      "cell_type": "markdown",
      "source": [
        " 12. Implement a class Student with attributes name and grades. Create a method average_grade() to compute the average of the grades"
      ],
      "metadata": {
        "id": "9GGiu1jLTuYz"
      }
    },
    {
      "cell_type": "code",
      "source": [
        "class Student:\n",
        "    def __init__(self, name, grades):\n",
        "        self.name = name\n",
        "        self.grades = grades  # Expecting grades to be a list of numbers\n",
        "\n",
        "    def average_grade(self):\n",
        "        \"\"\"Compute and return the average of the grades.\"\"\"\n",
        "        if not self.grades:  # Check if the grades list is empty\n",
        "            return 0\n",
        "        return sum(self.grades) / len(self.grades)\n",
        "\n",
        "# Example usage\n",
        "if __name__ == \"__main__\":\n",
        "    # Create an instance of Student with a name and a list of grades\n",
        "    student1 = Student(\"Alice\", [85, 90, 78, 92])\n",
        "    student2 = Student(\"Bob\", [70, 75, 80, 85, 90])\n",
        "\n",
        "    # Calculate and print the average grades\n",
        "    print(f\"{student1.name}'s average grade: {student1.average_grade():.2f}\")  # Output: Alice's average grade: 86.25\n",
        "    print(f\"{student2.name}'s average grade: {student2.average_grade():.2f}\")  # Output: Bob's average grade: 80.00"
      ],
      "metadata": {
        "colab": {
          "base_uri": "https://localhost:8080/"
        },
        "id": "jUewazxRT9t5",
        "outputId": "0f4a6f99-1864-4cfb-b14f-7e91352518aa"
      },
      "execution_count": 15,
      "outputs": [
        {
          "output_type": "stream",
          "name": "stdout",
          "text": [
            "Alice's average grade: 86.25\n",
            "Bob's average grade: 80.00\n"
          ]
        }
      ]
    },
    {
      "cell_type": "markdown",
      "source": [
        " 13. Create a class Rectangle with methods set_dimensions() to set the dimensions and area() to calculate the area."
      ],
      "metadata": {
        "id": "FpUZOvRXUI40"
      }
    },
    {
      "cell_type": "code",
      "source": [
        "class Rectangle:\n",
        "    def __init__(self):\n",
        "        self.width = 0\n",
        "        self.height = 0\n",
        "\n",
        "    def set_dimensions(self, width, height):\n",
        "        \"\"\"Set the dimensions of the rectangle.\"\"\"\n",
        "        self.width = width\n",
        "        self.height = height\n",
        "\n",
        "    def area(self):\n",
        "        \"\"\"Calculate and return the area of the rectangle.\"\"\"\n",
        "        return self.width * self.height\n",
        "\n",
        "# Example usage\n",
        "if __name__ == \"__main__\":\n",
        "    # Create an instance of Rectangle\n",
        "    rectangle = Rectangle()\n",
        "\n",
        "    # Set dimensions\n",
        "    rectangle.set_dimensions(5, 10)\n",
        "\n",
        "    # Calculate and print the area\n",
        "    print(f\"Area of the rectangle: {rectangle.area()}\")  # Output: Area of the rectangle: 50\n",
        ""
      ],
      "metadata": {
        "colab": {
          "base_uri": "https://localhost:8080/"
        },
        "id": "G4HhD10AYIku",
        "outputId": "5894b2de-32d4-4253-d916-2f1cd455c868"
      },
      "execution_count": 16,
      "outputs": [
        {
          "output_type": "stream",
          "name": "stdout",
          "text": [
            "Area of the rectangle: 50\n"
          ]
        }
      ]
    },
    {
      "cell_type": "markdown",
      "source": [
        " 14. Create a class Employee with a method calculate_salary() that computes the salary based on hours worked and hourly rate. Create a derived class Manager that adds a bonus to the salary."
      ],
      "metadata": {
        "id": "ET8D77ZcYMSC"
      }
    },
    {
      "cell_type": "code",
      "source": [
        "class Employee:\n",
        "    def __init__(self, name, hours_worked, hourly_rate):\n",
        "        self.name = name\n",
        "        self.hours_worked = hours_worked\n",
        "        self.hourly_rate = hourly_rate\n",
        "\n",
        "    def calculate_salary(self):\n",
        "        \"\"\"Calculate the salary based on hours worked and hourly rate.\"\"\"\n",
        "        return self.hours_worked * self.hourly_rate\n",
        "\n",
        "class Manager(Employee):\n",
        "    def __init__(self, name, hours_worked, hourly_rate, bonus):\n",
        "        super().__init__(name, hours_worked, hourly_rate)\n",
        "        self.bonus = bonus\n",
        "\n",
        "    def calculate_salary(self):\n",
        "        \"\"\"Calculate the salary including the bonus.\"\"\"\n",
        "        base_salary = super().calculate_salary()\n",
        "        return base_salary + self.bonus\n",
        "\n",
        "# Example usage\n",
        "if __name__ == \"__main__\":\n",
        "    # Create an instance of Employee\n",
        "    employee = Employee(\"Alice\", 40, 20)\n",
        "    print(f\"{employee.name}'s salary: ${employee.calculate_salary():.2f}\")  # Output: Alice's salary: $800.00\n",
        "\n",
        "    # Create an instance of Manager\n",
        "    manager = Manager(\"Bob\", 40, 30, 500)\n",
        "    print(f\"{manager.name}'s salary: ${manager.calculate_salary():.2f}\")  # Output: Bob's salary: $1700.00"
      ],
      "metadata": {
        "colab": {
          "base_uri": "https://localhost:8080/"
        },
        "id": "wrQPbnB9YfNj",
        "outputId": "02a835a5-4e8d-4ea3-d24c-38d87ca59ea2"
      },
      "execution_count": 17,
      "outputs": [
        {
          "output_type": "stream",
          "name": "stdout",
          "text": [
            "Alice's salary: $800.00\n",
            "Bob's salary: $1700.00\n"
          ]
        }
      ]
    },
    {
      "cell_type": "markdown",
      "source": [
        "15. Create a class Product with attributes name, price, and quantity. Implement a method total_price() that calculates the total price of the product."
      ],
      "metadata": {
        "id": "xI838ye2Yi8q"
      }
    },
    {
      "cell_type": "code",
      "source": [
        "class Product:\n",
        "    def __init__(self, name, price, quantity):\n",
        "        self.name = name\n",
        "        self.price = price\n",
        "        self.quantity = quantity\n",
        "\n",
        "    def total_price(self):\n",
        "        \"\"\"Calculate and return the total price of the product.\"\"\"\n",
        "        return self.price * self.quantity\n",
        "\n",
        "# Example usage\n",
        "if __name__ == \"__main__\":\n",
        "    # Create an instance of Product\n",
        "    product1 = Product(\"Laptop\", 999.99, 2)\n",
        "    product2 = Product(\"Headphones\", 199.99, 5)\n",
        "\n",
        "    # Calculate and print the total prices\n",
        "    print(f\"Total price of {product1.name}: ${product1.total_price():.2f}\")  # Output: Total price of Laptop: $1999.98\n",
        "    print(f\"Total price of {product2.name}: ${product2.total_price():.2f}\")  # Output: Total price of Headphones: $999.95"
      ],
      "metadata": {
        "colab": {
          "base_uri": "https://localhost:8080/"
        },
        "id": "0AjcngvrYnld",
        "outputId": "2f20f8ef-4d7d-4dfe-c832-98c51e76422f"
      },
      "execution_count": 18,
      "outputs": [
        {
          "output_type": "stream",
          "name": "stdout",
          "text": [
            "Total price of Laptop: $1999.98\n",
            "Total price of Headphones: $999.95\n"
          ]
        }
      ]
    },
    {
      "cell_type": "markdown",
      "source": [
        " 16. Create a class Animal with an abstract method sound(). Create two derived classes Cow and Sheep that implement the sound() method."
      ],
      "metadata": {
        "id": "ffJaZbe7YwM9"
      }
    },
    {
      "cell_type": "code",
      "source": [
        "from abc import ABC, abstractmethod\n",
        "\n",
        "class Animal(ABC):\n",
        "    @abstractmethod\n",
        "    def sound(self):\n",
        "        \"\"\"Abstract method to be implemented by derived classes.\"\"\"\n",
        "        pass\n",
        "\n",
        "class Cow(Animal):\n",
        "    def sound(self):\n",
        "        \"\"\"Implement the sound method for Cow.\"\"\"\n",
        "        return \"Moo\"\n",
        "\n",
        "class Sheep(Animal):\n",
        "    def sound(self):\n",
        "        \"\"\"Implement the sound method for Sheep.\"\"\"\n",
        "        return \"Baa\"\n",
        "\n",
        "# Example usage\n",
        "if __name__ == \"__main__\":\n",
        "    # Create instances of Cow and Sheep\n",
        "    cow = Cow()\n",
        "    sheep = Sheep()\n",
        "\n",
        "    # Print the sounds made by the animals\n",
        "    print(f\"Cow sound: {cow.sound()}\")  # Output: Cow sound: Moo\n",
        "    print(f\"Sheep sound: {sheep.sound()}\")  # Output: Sheep sound: Baa"
      ],
      "metadata": {
        "colab": {
          "base_uri": "https://localhost:8080/"
        },
        "id": "SKXDAKVzYzwz",
        "outputId": "4b8461d9-dd74-4f0c-8dc4-63d65f886325"
      },
      "execution_count": 19,
      "outputs": [
        {
          "output_type": "stream",
          "name": "stdout",
          "text": [
            "Cow sound: Moo\n",
            "Sheep sound: Baa\n"
          ]
        }
      ]
    },
    {
      "cell_type": "markdown",
      "source": [
        " 17. Create a class Book with attributes title, author, and year_published. Add a method get_book_info() that returns a formatted string with the book's details."
      ],
      "metadata": {
        "id": "aHzrZos3ZCi-"
      }
    },
    {
      "cell_type": "code",
      "source": [
        "class Book:\n",
        "    def __init__(self, title, author, year_published):\n",
        "        self.title = title\n",
        "        self.author = author\n",
        "        self.year_published = year_published\n",
        "\n",
        "    def get_book_info(self):\n",
        "        \"\"\"Return a formatted string with the book's details.\"\"\"\n",
        "        return f\"'{self.title}' by {self.author}, published in {self.year_published}\"\n",
        "\n",
        "# Example usage\n",
        "if __name__ == \"__main__\":\n",
        "    # Create an instance of Book\n",
        "    book1 = Book(\"To Kill a Mockingbird\", \"Harper Lee\", 1960)\n",
        "    book2 = Book(\"1984\", \"George Orwell\", 1949)\n",
        "\n",
        "    # Get and print book information\n",
        "    print(book1.get_book_info())  # Output: 'To Kill a Mockingbird' by Harper Lee, published in 1960\n",
        "    print(book2.get_book_info())  # Output: '1984' by George Orwell, published in 1949"
      ],
      "metadata": {
        "colab": {
          "base_uri": "https://localhost:8080/"
        },
        "id": "V85Bu2pkZIAS",
        "outputId": "2e9c19be-68b9-406e-e8a2-059eded926c2"
      },
      "execution_count": 20,
      "outputs": [
        {
          "output_type": "stream",
          "name": "stdout",
          "text": [
            "'To Kill a Mockingbird' by Harper Lee, published in 1960\n",
            "'1984' by George Orwell, published in 1949\n"
          ]
        }
      ]
    },
    {
      "cell_type": "markdown",
      "source": [
        " 18. Create a class House with attributes address and price. Create a derived class Mansion that adds an attribute number_of_rooms"
      ],
      "metadata": {
        "id": "mmKV358pZRph"
      }
    },
    {
      "cell_type": "code",
      "source": [
        "class House:\n",
        "    def __init__(self, address, price):\n",
        "        self.address = address\n",
        "        self.price = price\n",
        "\n",
        "    def get_info(self):\n",
        "        \"\"\"Return a formatted string with the house's details.\"\"\"\n",
        "        return f\"House located at {self.address}, priced at ${self.price:,.2f}\"\n",
        "\n",
        "class Mansion(House):\n",
        "    def __init__(self, address, price, number_of_rooms):\n",
        "        super().__init__(address, price)  # Call the constructor of the base class\n",
        "        self.number_of_rooms = number_of_rooms\n",
        "\n",
        "    def get_info(self):\n",
        "        \"\"\"Return a formatted string with the mansion's details, including the number of rooms.\"\"\"\n",
        "        base_info = super().get_info()  # Get info from the base class\n",
        "        return f\"{base_info}, with {self.number_of_rooms} rooms\"\n",
        "\n",
        "# Example usage\n",
        "if __name__ == \"__main__\":\n",
        "    # Create an instance of House\n",
        "    house = House(\"123 Main St\", 250000)\n",
        "    print(house.get_info())  # Output: House located at 123 Main St, priced at $250,000.00\n",
        "\n",
        "    # Create an instance of Mansion\n",
        "    mansion = Mansion(\"456 Luxury Ave\", 1500000, 10)\n",
        "    print(mansion.get_info())  # Output: House located at 456 Luxury Ave, priced at $1,500,000.00, with 10 rooms"
      ],
      "metadata": {
        "colab": {
          "base_uri": "https://localhost:8080/"
        },
        "id": "_wxUQSONZcL0",
        "outputId": "65a1fcf8-4396-4c07-d1ea-d1f492071d4c"
      },
      "execution_count": 21,
      "outputs": [
        {
          "output_type": "stream",
          "name": "stdout",
          "text": [
            "House located at 123 Main St, priced at $250,000.00\n",
            "House located at 456 Luxury Ave, priced at $1,500,000.00, with 10 rooms\n"
          ]
        }
      ]
    }
  ]
}